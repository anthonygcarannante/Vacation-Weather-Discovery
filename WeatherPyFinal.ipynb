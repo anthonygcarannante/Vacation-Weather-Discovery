{
 "cells": [
  {
   "cell_type": "code",
   "execution_count": null,
   "id": "vanilla-mystery",
   "metadata": {},
   "outputs": [],
   "source": [
    "# Dependencies and Setup\n",
    "import matplotlib.pyplot as plt\n",
    "import pandas as pd\n",
    "import numpy as np\n",
    "import requests\n",
    "import time\n",
    "import json\n",
    "from scipy.stats import linregress\n",
    "\n",
    "# Import API key\n",
    "from api_keys import weather_api_key\n",
    "\n",
    "# Incorporated citipy to determine city based on latitude and longitude\n",
    "from citipy import citipy\n",
    "\n",
    "# Output File (CSV)\n",
    "output_data_file = \"output_data/cities.csv\"\n",
    "\n",
    "# Range of latitudes and longitudes\n",
    "lat_range = (-90, 90)\n",
    "\n",
    "lng_range = (-180, 180)"
   ]
  },
  {
   "cell_type": "code",
   "execution_count": null,
   "id": "proper-nightlife",
   "metadata": {},
   "outputs": [],
   "source": [
    "# List for holding lat_lngs and cities\n",
    "lat_lngs = []\n",
    "cities = []\n",
    "\n",
    "# Create a set of random lat and lng combinations\n",
    "lats = np.random.uniform(lat_range[0], lat_range[1], size=1500)\n",
    "lngs = np.random.uniform(lng_range[0], lng_range[1], size=1500)\n",
    "lat_lngs = zip(lats, lngs)\n",
    "\n",
    "# Identify nearest city for each lat, lng combination\n",
    "for lat_lng in lat_lngs:\n",
    "    city = citipy.nearest_city(lat_lng[0], lat_lng[1]).city_name\n",
    "\n",
    "    # If the city is unique, then add it to a our cities list\n",
    "    if city not in cities:\n",
    "        cities.append(city)\n",
    "\n",
    "# Print the city count to confirm sufficient count\n",
    "len(cities)"
   ]
  },
  {
   "cell_type": "code",
   "execution_count": null,
   "id": "possible-arlington",
   "metadata": {
    "scrolled": true
   },
   "outputs": [],
   "source": [
    "# Initialize lists for data storage\n",
    "temps = []\n",
    "humidity = []\n",
    "cloudiness = []\n",
    "wind = []\n",
    "cities_found = []\n",
    "city_count = 1\n",
    "\n",
    "# Loop through each city in original cities list\n",
    "for city in cities:\n",
    "\n",
    "    # Attempt to pull city data from the weather API\n",
    "    try:\n",
    "        city_url = f'http://api.openweathermap.org/data/2.5/weather?q={city}&appid={weather_api_key}'\n",
    "        response = requests.get(city_url).json()\n",
    "\n",
    "        # If found, add data to respective lists\n",
    "        temps.append(response['main']['temp'])\n",
    "        humidity.append(response['main']['humidity'])\n",
    "        cloudiness.append(response['clouds']['all'])\n",
    "        wind.append(response['wind']['speed'])\n",
    "        cities_found.append(city)\n",
    "        \n",
    "        # Print the city and record number\n",
    "        print(f'Record {city_count} for | {city}')\n",
    "        city_count += 1\n",
    "\n",
    "    # If city is not found in API, print notice of that\n",
    "    except:\n",
    "        print(f'{city} not found. Continuing...')\n",
    "\n",
    "print(f'{len(temps)}, {len(humidity)}, {len(cloudiness)}, {len(wind)}, {len(cities_found)}')"
   ]
  },
  {
   "cell_type": "code",
   "execution_count": null,
   "id": "preliminary-utilization",
   "metadata": {},
   "outputs": [],
   "source": [
    "weather_df = pd.DataFrame({''\n",
    "                          'Temperature':temps,\n",
    "                          'Humidity':humidity,\n",
    "                          'Cloudiness':cloudiness,\n",
    "                          'Wind':wind})\n",
    "weather_df"
   ]
  },
  {
   "cell_type": "code",
   "execution_count": null,
   "id": "wrapped-arbor",
   "metadata": {},
   "outputs": [],
   "source": []
  }
 ],
 "metadata": {
  "kernelspec": {
   "display_name": "Python [conda env:anaconda3-PythonData] *",
   "language": "python",
   "name": "conda-env-anaconda3-PythonData-py"
  },
  "language_info": {
   "codemirror_mode": {
    "name": "ipython",
    "version": 3
   },
   "file_extension": ".py",
   "mimetype": "text/x-python",
   "name": "python",
   "nbconvert_exporter": "python",
   "pygments_lexer": "ipython3",
   "version": "3.8.8"
  }
 },
 "nbformat": 4,
 "nbformat_minor": 5
}
